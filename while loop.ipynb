{
 "cells": [
  {
   "cell_type": "markdown",
   "id": "94c0d586-6e8e-40d6-998d-5dbfb2d8d533",
   "metadata": {},
   "source": [
    "WHILE LOOP"
   ]
  },
  {
   "cell_type": "code",
   "execution_count": null,
   "id": "0f1ac3a3-ff1d-4cee-b892-69e8524171c8",
   "metadata": {},
   "outputs": [],
   "source": [
    "i=0\n",
    "while i<=7:\n",
    "  print(i)\n",
    "  i+=1\n",
    "    "
   ]
  },
  {
   "cell_type": "code",
   "execution_count": null,
   "id": "6fe7063b-0aa5-4c62-b233-e8b103dc22c0",
   "metadata": {},
   "outputs": [],
   "source": [
    "k=0\n",
    "while i<=7:\n",
    "    print(i)\n",
    "    i+=1"
   ]
  },
  {
   "cell_type": "code",
   "execution_count": 5,
   "id": "b9d22ab2-620f-4832-8664-ab9831b64581",
   "metadata": {},
   "outputs": [
    {
     "name": "stdout",
     "output_type": "stream",
     "text": [
      "0\n",
      "1\n",
      "2\n",
      "3\n"
     ]
    }
   ],
   "source": [
    "k=[1,2,6,7]\n",
    "a=0\n",
    "while a<len(k):\n",
    "    print(a)\n",
    "    a+=1"
   ]
  },
  {
   "cell_type": "code",
   "execution_count": null,
   "id": "07293b96-ee92-43e0-81e5-904ceb40039f",
   "metadata": {},
   "outputs": [],
   "source": []
  }
 ],
 "metadata": {
  "kernelspec": {
   "display_name": "Python 3 (ipykernel)",
   "language": "python",
   "name": "python3"
  },
  "language_info": {
   "codemirror_mode": {
    "name": "ipython",
    "version": 3
   },
   "file_extension": ".py",
   "mimetype": "text/x-python",
   "name": "python",
   "nbconvert_exporter": "python",
   "pygments_lexer": "ipython3",
   "version": "3.12.7"
  }
 },
 "nbformat": 4,
 "nbformat_minor": 5
}
