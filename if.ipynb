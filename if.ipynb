{
 "cells": [
  {
   "cell_type": "markdown",
   "id": "9caf89e4-cb19-481a-88db-5f581a57ecda",
   "metadata": {},
   "source": [
    "STUDENTS GRADE SCORE"
   ]
  },
  {
   "cell_type": "code",
   "execution_count": 3,
   "id": "7d7719ca-05d7-436d-812d-8221ddee965e",
   "metadata": {},
   "outputs": [
    {
     "name": "stdin",
     "output_type": "stream",
     "text": [
      "score 78\n"
     ]
    },
    {
     "name": "stdout",
     "output_type": "stream",
     "text": [
      "Grade D\n"
     ]
    }
   ],
   "source": [
    "score=int(input(\"score\"))\n",
    "if(score<100):\n",
    "   print(\"Grade A\")\n",
    "elif(score<90):\n",
    "   print(\"Grade B\")\n",
    "elif(score80):\n",
    "   print(\"Grade C\")\n",
    "else:\n",
    "   print(\"Grade D\")"
   ]
  },
  {
   "cell_type": "markdown",
   "id": "0f280b62-4ba6-466d-bb94-6ccf613ac073",
   "metadata": {},
   "source": [
    "left shift"
   ]
  },
  {
   "cell_type": "code",
   "execution_count": 22,
   "id": "81d15b0c-0e6b-4e9c-aabe-a19aa45b7ebe",
   "metadata": {},
   "outputs": [
    {
     "name": "stdout",
     "output_type": "stream",
     "text": [
      "80\n"
     ]
    }
   ],
   "source": [
    "x=5\n",
    "y=4\n",
    "z=x<<y\n",
    "print(z)"
   ]
  },
  {
   "cell_type": "markdown",
   "id": "93697f2d-6625-4f2f-91a4-892cc9e974af",
   "metadata": {},
   "source": [
    "Right shift"
   ]
  },
  {
   "cell_type": "code",
   "execution_count": 25,
   "id": "e5bcf506-ca55-49dd-9865-cc517d9d89b0",
   "metadata": {},
   "outputs": [
    {
     "name": "stdout",
     "output_type": "stream",
     "text": [
      "5\n"
     ]
    }
   ],
   "source": [
    "x=80\n",
    "y=4\n",
    "z=x>>y\n",
    "print(z)"
   ]
  },
  {
   "cell_type": "markdown",
   "id": "d47aa95b-00d6-4aca-ab29-0123b077c871",
   "metadata": {},
   "source": [
    "bitwise xor"
   ]
  },
  {
   "cell_type": "code",
   "execution_count": 26,
   "id": "e4af6d12-fba1-4741-8309-19786cbf7935",
   "metadata": {},
   "outputs": [
    {
     "name": "stdout",
     "output_type": "stream",
     "text": [
      "12\n"
     ]
    }
   ],
   "source": [
    "a=10\n",
    "b=6\n",
    "c=a^b\n",
    "print(c)"
   ]
  },
  {
   "cell_type": "code",
   "execution_count": null,
   "id": "078fccde-864c-40c6-bf79-bebac694656b",
   "metadata": {},
   "outputs": [],
   "source": []
  }
 ],
 "metadata": {
  "kernelspec": {
   "display_name": "Python 3 (ipykernel)",
   "language": "python",
   "name": "python3"
  },
  "language_info": {
   "codemirror_mode": {
    "name": "ipython",
    "version": 3
   },
   "file_extension": ".py",
   "mimetype": "text/x-python",
   "name": "python",
   "nbconvert_exporter": "python",
   "pygments_lexer": "ipython3",
   "version": "3.12.7"
  }
 },
 "nbformat": 4,
 "nbformat_minor": 5
}
