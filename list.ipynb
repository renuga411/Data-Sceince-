{
 "cells": [
  {
   "cell_type": "markdown",
   "id": "8f206676-4850-47c9-b10b-ea21ce706ad5",
   "metadata": {},
   "source": [
    "Translate"
   ]
  },
  {
   "cell_type": "code",
   "execution_count": 1,
   "id": "6580b676-b449-41a7-b606-39e80fb5bc69",
   "metadata": {},
   "outputs": [
    {
     "name": "stdout",
     "output_type": "stream",
     "text": [
      "Hello Pam!\n"
     ]
    }
   ],
   "source": [
    "mydict={83:80}\n",
    "txt=\"Hello Sam!\"\n",
    "print(txt.translate(mydict))"
   ]
  },
  {
   "cell_type": "markdown",
   "id": "cbab5a00-a588-4f57-94c0-e46a798e3fd2",
   "metadata": {},
   "source": [
    "Join"
   ]
  },
  {
   "cell_type": "code",
   "execution_count": 2,
   "id": "cf148181-be88-48e3-97c4-fd0be7350c52",
   "metadata": {},
   "outputs": [
    {
     "name": "stdout",
     "output_type": "stream",
     "text": [
      "John#peter#Vicky\n"
     ]
    }
   ],
   "source": [
    "myTuple=(\"John\",\"peter\",\"Vicky\")\n",
    "x=\"#\".join(myTuple)\n",
    "print(x)"
   ]
  },
  {
   "cell_type": "markdown",
   "id": "28435e1c-798c-448b-a41f-985b301d05fc",
   "metadata": {},
   "source": [
    "Partition"
   ]
  },
  {
   "cell_type": "code",
   "execution_count": 3,
   "id": "e800efda-c78e-4079-9377-d1771b3c7150",
   "metadata": {},
   "outputs": [
    {
     "name": "stdout",
     "output_type": "stream",
     "text": [
      "('I could eat ', 'bananas', ' all day')\n"
     ]
    }
   ],
   "source": [
    "txt=\"I could eat bananas all day\"\n",
    "x=txt.partition(\"bananas\")\n",
    "print(x)"
   ]
  },
  {
   "cell_type": "markdown",
   "id": "676d10c2-92f2-4219-ad1c-86dbb4756ae4",
   "metadata": {},
   "source": [
    "Splitlines"
   ]
  },
  {
   "cell_type": "code",
   "execution_count": 9,
   "id": "1e9c16e6-2e51-406b-886f-43b53ae4f1dd",
   "metadata": {},
   "outputs": [
    {
     "name": "stdout",
     "output_type": "stream",
     "text": [
      "['Thank you for the music', 'Welcome to the jungle']\n"
     ]
    }
   ],
   "source": [
    "txt=\"Thank you for the music\\nWelcome to the jungle\"\n",
    "x=txt.splitlines()\n",
    "print(x)"
   ]
  },
  {
   "cell_type": "markdown",
   "id": "12ccb845-c29d-447c-aa39-8429c79056c5",
   "metadata": {},
   "source": [
    "Find"
   ]
  },
  {
   "cell_type": "code",
   "execution_count": 11,
   "id": "8f71f867-7027-43c4-9c47-296169a93afb",
   "metadata": {},
   "outputs": [
    {
     "name": "stdout",
     "output_type": "stream",
     "text": [
      "7\n"
     ]
    }
   ],
   "source": [
    "txt=\"Hello, welcome to my world.\"\n",
    "x=txt.find(\"welcome\")\n",
    "print(x)"
   ]
  },
  {
   "cell_type": "markdown",
   "id": "9bda3d57-4db1-49b6-b68d-228a97449e40",
   "metadata": {},
   "source": [
    "Title"
   ]
  },
  {
   "cell_type": "code",
   "execution_count": 12,
   "id": "7ae47c17-5667-4a2d-a5df-d5794d3c75ae",
   "metadata": {},
   "outputs": [
    {
     "name": "stdout",
     "output_type": "stream",
     "text": [
      "Welcome To My World\n"
     ]
    }
   ],
   "source": [
    "txt=\"Welcome to my world\"\n",
    "x=txt.title()\n",
    "print(x)"
   ]
  },
  {
   "cell_type": "code",
   "execution_count": null,
   "id": "963e0865-edfc-48c2-b9a4-dfdf447c2580",
   "metadata": {},
   "outputs": [],
   "source": []
  }
 ],
 "metadata": {
  "kernelspec": {
   "display_name": "Python 3 (ipykernel)",
   "language": "python",
   "name": "python3"
  },
  "language_info": {
   "codemirror_mode": {
    "name": "ipython",
    "version": 3
   },
   "file_extension": ".py",
   "mimetype": "text/x-python",
   "name": "python",
   "nbconvert_exporter": "python",
   "pygments_lexer": "ipython3",
   "version": "3.12.7"
  }
 },
 "nbformat": 4,
 "nbformat_minor": 5
}
