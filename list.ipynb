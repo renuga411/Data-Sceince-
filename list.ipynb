{
 "cells": [
  {
   "cell_type": "markdown",
   "id": "6c1a2b97-edfc-42f0-a1f6-8bfc6a7b2fe5",
   "metadata": {},
   "source": [
    "list"
   ]
  },
  {
   "cell_type": "code",
   "execution_count": 4,
   "id": "46591679-665e-40a6-abe3-d388fb70aeaa",
   "metadata": {},
   "outputs": [
    {
     "ename": "SyntaxError",
     "evalue": "Missing parentheses in call to 'print'. Did you mean print(...)? (560475857.py, line 2)",
     "output_type": "error",
     "traceback": [
      "\u001b[1;36m  Cell \u001b[1;32mIn[4], line 2\u001b[1;36m\u001b[0m\n\u001b[1;33m    print L[2:4]=[3,5]\u001b[0m\n\u001b[1;37m    ^\u001b[0m\n\u001b[1;31mSyntaxError\u001b[0m\u001b[1;31m:\u001b[0m Missing parentheses in call to 'print'. Did you mean print(...)?\n"
     ]
    }
   ],
   "source": [
    "L=[2,4,6,8,10]\n",
    "print L[2:4]=[3,5]"
   ]
  },
  {
   "cell_type": "code",
   "execution_count": 9,
   "id": "a094425b-2e9b-44e7-a6d4-be87c8782e53",
   "metadata": {},
   "outputs": [
    {
     "name": "stdout",
     "output_type": "stream",
     "text": [
      "[5, 6, 'hi', 'hello', 8, 10, 12, 1]\n"
     ]
    }
   ],
   "source": [
    "L=[5,6,7,8,10,12,1]\n",
    "L[2:3]=[\"hi\",\"hello\"]\n",
    "print(L) "
   ]
  },
  {
   "cell_type": "code",
   "execution_count": 13,
   "id": "2267e0c8-8094-4f2f-b5d5-2b388e4d3da7",
   "metadata": {},
   "outputs": [
    {
     "data": {
      "text/plain": [
       "1"
      ]
     },
     "execution_count": 13,
     "metadata": {},
     "output_type": "execute_result"
    }
   ],
   "source": [
    "L.pop()"
   ]
  },
  {
   "cell_type": "code",
   "execution_count": 12,
   "id": "335d580a-d001-4c81-86c1-394440eac35b",
   "metadata": {},
   "outputs": [
    {
     "ename": "ValueError",
     "evalue": "list.remove(x): x not in list",
     "output_type": "error",
     "traceback": [
      "\u001b[1;31m---------------------------------------------------------------------------\u001b[0m",
      "\u001b[1;31mValueError\u001b[0m                                Traceback (most recent call last)",
      "Cell \u001b[1;32mIn[12], line 1\u001b[0m\n\u001b[1;32m----> 1\u001b[0m L\u001b[38;5;241m.\u001b[39mremove(\u001b[38;5;241m12\u001b[39m)\n\u001b[0;32m      2\u001b[0m \u001b[38;5;28mprint\u001b[39m(L)\n",
      "\u001b[1;31mValueError\u001b[0m: list.remove(x): x not in list"
     ]
    }
   ],
   "source": [
    "L.remove(12)\n",
    "print(L)"
   ]
  },
  {
   "cell_type": "markdown",
   "id": "5ba044b4-800e-4a4a-8827-f50a6b16d096",
   "metadata": {},
   "source": [
    "Tuple"
   ]
  },
  {
   "cell_type": "code",
   "execution_count": null,
   "id": "343b1986-26af-4fb3-b97d-b8e7b457b983",
   "metadata": {},
   "outputs": [],
   "source": []
  }
 ],
 "metadata": {
  "kernelspec": {
   "display_name": "Python 3 (ipykernel)",
   "language": "python",
   "name": "python3"
  },
  "language_info": {
   "codemirror_mode": {
    "name": "ipython",
    "version": 3
   },
   "file_extension": ".py",
   "mimetype": "text/x-python",
   "name": "python",
   "nbconvert_exporter": "python",
   "pygments_lexer": "ipython3",
   "version": "3.12.7"
  }
 },
 "nbformat": 4,
 "nbformat_minor": 5
}
