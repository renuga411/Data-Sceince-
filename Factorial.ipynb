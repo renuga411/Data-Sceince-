{
 "cells": [
  {
   "cell_type": "code",
   "execution_count": 1,
   "id": "cdaee1ad-1c8e-4e59-a1dd-d37784b12838",
   "metadata": {},
   "outputs": [
    {
     "name": "stdout",
     "output_type": "stream",
     "text": [
      "Hello World\n"
     ]
    }
   ],
   "source": [
    "print(\"Hello World\")"
   ]
  },
  {
   "cell_type": "code",
   "execution_count": 3,
   "id": "837e5635-1433-4c2e-81f7-0d56a7697a5a",
   "metadata": {},
   "outputs": [
    {
     "data": {
      "text/plain": [
       "'3.12.7 | packaged by Anaconda, Inc. | (main, Oct  4 2024, 13:17:27) [MSC v.1929 64 bit (AMD64)]'"
      ]
     },
     "execution_count": 3,
     "metadata": {},
     "output_type": "execute_result"
    }
   ],
   "source": [
    "import sys\n",
    "sys.version"
   ]
  },
  {
   "cell_type": "code",
   "execution_count": 4,
   "id": "4db70563-1c12-4879-9fb1-94bb9d9838a1",
   "metadata": {},
   "outputs": [
    {
     "data": {
      "text/plain": [
       "'a=5\\nb=10\\nprint(a+b)'"
      ]
     },
     "execution_count": 4,
     "metadata": {},
     "output_type": "execute_result"
    }
   ],
   "source": [
    "'''a=5\n",
    "b=10\n",
    "print(a+b)'''"
   ]
  },
  {
   "cell_type": "code",
   "execution_count": 5,
   "id": "a4e1cfc9-dfcb-44bc-886f-bae116a135db",
   "metadata": {},
   "outputs": [
    {
     "name": "stdout",
     "output_type": "stream",
     "text": [
      "Sum: 15\n"
     ]
    }
   ],
   "source": [
    "num1=10\n",
    "num2=5\n",
    "sum=num1+num2\n",
    "print(\"Sum:\",sum)"
   ]
  },
  {
   "cell_type": "markdown",
   "id": "8c7ee423-10c4-477b-9ed9-138ac45f614c",
   "metadata": {},
   "source": [
    "Factorial of a number"
   ]
  },
  {
   "cell_type": "code",
   "execution_count": 8,
   "id": "f1f27dab-ef99-48d1-b011-a27d72f2076c",
   "metadata": {},
   "outputs": [
    {
     "name": "stdout",
     "output_type": "stream",
     "text": [
      "Factorial: 1\n",
      "Factorial: 2\n",
      "Factorial: 6\n",
      "Factorial: 24\n",
      "Factorial: 120\n"
     ]
    }
   ],
   "source": [
    "num=5\n",
    "factorial=1\n",
    "for i in range(1,num+1):\n",
    "    factorial *=i\n",
    "    print(\"Factorial:\",factorial)"
   ]
  },
  {
   "cell_type": "markdown",
   "id": "0c627b75-83f7-4816-89bf-5038b8fb69f8",
   "metadata": {},
   "source": [
    "Even or Odd Checker"
   ]
  },
  {
   "cell_type": "code",
   "execution_count": 9,
   "id": "25c85798-0d05-4143-9974-3be004d9154c",
   "metadata": {},
   "outputs": [
    {
     "name": "stdout",
     "output_type": "stream",
     "text": [
      "Odd\n"
     ]
    }
   ],
   "source": [
    "num=7\n",
    "if num%2==0:\n",
    "    print(\"Even\")\n",
    "else:\n",
    "    print(\"Odd\")"
   ]
  },
  {
   "cell_type": "markdown",
   "id": "6751ef76-caed-44ab-857e-22e244b3ea28",
   "metadata": {},
   "source": [
    "Simple Calculator"
   ]
  },
  {
   "cell_type": "code",
   "execution_count": 1,
   "id": "ef694f8a-e621-43bc-b5d2-67207712e5f8",
   "metadata": {},
   "outputs": [
    {
     "name": "stdout",
     "output_type": "stream",
     "text": [
      "Addition: 15\n",
      "substraction: 5\n",
      "multiplication: 10\n"
     ]
    }
   ],
   "source": [
    "num1=10\n",
    "num2=5\n",
    "print(\"Addition:\",num1+num2)\n",
    "print(\"substraction:\",num1-num2)\n",
    "print(\"multiplication:\",num1)"
   ]
  },
  {
   "cell_type": "code",
   "execution_count": null,
   "id": "05269219-0d24-46a6-936f-6af47c631fc7",
   "metadata": {},
   "outputs": [],
   "source": []
  }
 ],
 "metadata": {
  "kernelspec": {
   "display_name": "Python 3 (ipykernel)",
   "language": "python",
   "name": "python3"
  },
  "language_info": {
   "codemirror_mode": {
    "name": "ipython",
    "version": 3
   },
   "file_extension": ".py",
   "mimetype": "text/x-python",
   "name": "python",
   "nbconvert_exporter": "python",
   "pygments_lexer": "ipython3",
   "version": "3.12.7"
  }
 },
 "nbformat": 4,
 "nbformat_minor": 5
}
