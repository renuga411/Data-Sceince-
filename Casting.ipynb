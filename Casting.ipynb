{
 "cells": [
  {
   "cell_type": "markdown",
   "id": "55adffc3-959d-415c-a854-ec2f916b4ff6",
   "metadata": {},
   "source": [
    "Casting"
   ]
  },
  {
   "cell_type": "code",
   "execution_count": 1,
   "id": "f71f056a-29ef-4747-b3af-05c76bd44d86",
   "metadata": {},
   "outputs": [
    {
     "data": {
      "text/plain": [
       "2"
      ]
     },
     "execution_count": 1,
     "metadata": {},
     "output_type": "execute_result"
    }
   ],
   "source": [
    "k=int(2.9)\n",
    "k"
   ]
  },
  {
   "cell_type": "code",
   "execution_count": 2,
   "id": "9be4aadf-9dc3-4dd5-8801-bc110a68feac",
   "metadata": {},
   "outputs": [
    {
     "name": "stdout",
     "output_type": "stream",
     "text": [
      "7\n"
     ]
    }
   ],
   "source": [
    "k=7\n",
    "print(str(k))"
   ]
  },
  {
   "cell_type": "code",
   "execution_count": 3,
   "id": "7377c9cc-711a-47a2-83b2-b5bded8a066c",
   "metadata": {},
   "outputs": [
    {
     "name": "stdout",
     "output_type": "stream",
     "text": [
      "(7+0j)\n"
     ]
    }
   ],
   "source": [
    "print(complex(k))"
   ]
  },
  {
   "cell_type": "code",
   "execution_count": 4,
   "id": "5f9ce84f-b668-4724-bc7f-7502e8347aeb",
   "metadata": {},
   "outputs": [
    {
     "name": "stdout",
     "output_type": "stream",
     "text": [
      "7.0\n"
     ]
    }
   ],
   "source": [
    "print(float(k))"
   ]
  },
  {
   "cell_type": "code",
   "execution_count": 5,
   "id": "9b19b90e-3b60-4261-8d84-c25bb2e20dfd",
   "metadata": {},
   "outputs": [
    {
     "ename": "NameError",
     "evalue": "name 'K1' is not defined",
     "output_type": "error",
     "traceback": [
      "\u001b[1;31m---------------------------------------------------------------------------\u001b[0m",
      "\u001b[1;31mNameError\u001b[0m                                 Traceback (most recent call last)",
      "Cell \u001b[1;32mIn[5], line 2\u001b[0m\n\u001b[0;32m      1\u001b[0m k1\u001b[38;5;241m=\u001b[39m\u001b[38;5;124m\"\u001b[39m\u001b[38;5;124mhi\u001b[39m\u001b[38;5;124m\"\u001b[39m\n\u001b[1;32m----> 2\u001b[0m \u001b[38;5;28mprint\u001b[39m(\u001b[38;5;28mint\u001b[39m(K1))\n",
      "\u001b[1;31mNameError\u001b[0m: name 'K1' is not defined"
     ]
    }
   ],
   "source": [
    "k1=\"hi\"\n",
    "print(int(K1))"
   ]
  },
  {
   "cell_type": "code",
   "execution_count": 6,
   "id": "64de579d-0ed0-404c-adf1-3ce5d64cef7f",
   "metadata": {},
   "outputs": [
    {
     "ename": "ValueError",
     "evalue": "could not convert string to float: 'hi'",
     "output_type": "error",
     "traceback": [
      "\u001b[1;31m---------------------------------------------------------------------------\u001b[0m",
      "\u001b[1;31mValueError\u001b[0m                                Traceback (most recent call last)",
      "Cell \u001b[1;32mIn[6], line 1\u001b[0m\n\u001b[1;32m----> 1\u001b[0m \u001b[38;5;28mprint\u001b[39m(\u001b[38;5;28mfloat\u001b[39m(k1))\n",
      "\u001b[1;31mValueError\u001b[0m: could not convert string to float: 'hi'"
     ]
    }
   ],
   "source": [
    "print(float(k1))"
   ]
  },
  {
   "cell_type": "code",
   "execution_count": 7,
   "id": "866b98d2-2387-4802-a45d-4a5fa9163b11",
   "metadata": {},
   "outputs": [
    {
     "ename": "ValueError",
     "evalue": "complex() arg is a malformed string",
     "output_type": "error",
     "traceback": [
      "\u001b[1;31m---------------------------------------------------------------------------\u001b[0m",
      "\u001b[1;31mValueError\u001b[0m                                Traceback (most recent call last)",
      "Cell \u001b[1;32mIn[7], line 1\u001b[0m\n\u001b[1;32m----> 1\u001b[0m \u001b[38;5;28mprint\u001b[39m(\u001b[38;5;28mcomplex\u001b[39m(k1))\n",
      "\u001b[1;31mValueError\u001b[0m: complex() arg is a malformed string"
     ]
    }
   ],
   "source": [
    "print(complex(k1))"
   ]
  },
  {
   "cell_type": "code",
   "execution_count": 8,
   "id": "19f41e2b-8b87-494e-9395-f0420e5d4323",
   "metadata": {},
   "outputs": [
    {
     "name": "stdout",
     "output_type": "stream",
     "text": [
      "89\n"
     ]
    }
   ],
   "source": [
    "k2=\"89\"\n",
    "print(int(k2))"
   ]
  },
  {
   "cell_type": "code",
   "execution_count": 9,
   "id": "96508ec0-8485-4818-985d-43471a4d2a33",
   "metadata": {},
   "outputs": [
    {
     "name": "stdout",
     "output_type": "stream",
     "text": [
      "89.0\n"
     ]
    }
   ],
   "source": [
    "print(float(k2))"
   ]
  },
  {
   "cell_type": "code",
   "execution_count": 10,
   "id": "6c8a072d-5a45-4c47-80e3-35d8bca4b8ee",
   "metadata": {},
   "outputs": [
    {
     "name": "stdout",
     "output_type": "stream",
     "text": [
      "(89+0j)\n"
     ]
    }
   ],
   "source": [
    "print(complex(k2))"
   ]
  },
  {
   "cell_type": "code",
   "execution_count": 11,
   "id": "4b02d8fe-400f-41f9-a526-3d5212f40513",
   "metadata": {},
   "outputs": [
    {
     "name": "stdout",
     "output_type": "stream",
     "text": [
      "(1+3j)\n"
     ]
    }
   ],
   "source": [
    "k3=1+3j\n",
    "print(str(k3))"
   ]
  },
  {
   "cell_type": "code",
   "execution_count": 12,
   "id": "19cd31dd-d69e-41e7-915b-55702d5717b8",
   "metadata": {},
   "outputs": [
    {
     "ename": "TypeError",
     "evalue": "int() argument must be a string, a bytes-like object or a real number, not 'complex'",
     "output_type": "error",
     "traceback": [
      "\u001b[1;31m---------------------------------------------------------------------------\u001b[0m",
      "\u001b[1;31mTypeError\u001b[0m                                 Traceback (most recent call last)",
      "Cell \u001b[1;32mIn[12], line 1\u001b[0m\n\u001b[1;32m----> 1\u001b[0m \u001b[38;5;28mprint\u001b[39m(\u001b[38;5;28mint\u001b[39m(k3))\n",
      "\u001b[1;31mTypeError\u001b[0m: int() argument must be a string, a bytes-like object or a real number, not 'complex'"
     ]
    }
   ],
   "source": [
    "print(int(k3))"
   ]
  },
  {
   "cell_type": "code",
   "execution_count": 13,
   "id": "630ef5e7-dfad-4edc-994b-db31cee0891f",
   "metadata": {},
   "outputs": [
    {
     "ename": "TypeError",
     "evalue": "int() argument must be a string, a bytes-like object or a real number, not 'complex'",
     "output_type": "error",
     "traceback": [
      "\u001b[1;31m---------------------------------------------------------------------------\u001b[0m",
      "\u001b[1;31mTypeError\u001b[0m                                 Traceback (most recent call last)",
      "Cell \u001b[1;32mIn[13], line 1\u001b[0m\n\u001b[1;32m----> 1\u001b[0m \u001b[38;5;28mprint\u001b[39m(\u001b[38;5;28mint\u001b[39m(k3))\n",
      "\u001b[1;31mTypeError\u001b[0m: int() argument must be a string, a bytes-like object or a real number, not 'complex'"
     ]
    }
   ],
   "source": []
  },
  {
   "cell_type": "code",
   "execution_count": 14,
   "id": "9d73a3a9-901b-4d9c-8a2a-908b0f427736",
   "metadata": {},
   "outputs": [
    {
     "ename": "TypeError",
     "evalue": "float() argument must be a string or a real number, not 'complex'",
     "output_type": "error",
     "traceback": [
      "\u001b[1;31m---------------------------------------------------------------------------\u001b[0m",
      "\u001b[1;31mTypeError\u001b[0m                                 Traceback (most recent call last)",
      "Cell \u001b[1;32mIn[14], line 1\u001b[0m\n\u001b[1;32m----> 1\u001b[0m \u001b[38;5;28mprint\u001b[39m(\u001b[38;5;28mfloat\u001b[39m(k3))\n",
      "\u001b[1;31mTypeError\u001b[0m: float() argument must be a string or a real number, not 'complex'"
     ]
    }
   ],
   "source": [
    "print(float(k3))"
   ]
  },
  {
   "cell_type": "code",
   "execution_count": null,
   "id": "bc1d94fd-985d-47e5-a768-8414b67850ef",
   "metadata": {},
   "outputs": [],
   "source": []
  },
  {
   "cell_type": "code",
   "execution_count": null,
   "id": "2bfcafb4-2fa6-485f-9a5e-08b108cfb29f",
   "metadata": {},
   "outputs": [],
   "source": []
  }
 ],
 "metadata": {
  "kernelspec": {
   "display_name": "Python 3 (ipykernel)",
   "language": "python",
   "name": "python3"
  },
  "language_info": {
   "codemirror_mode": {
    "name": "ipython",
    "version": 3
   },
   "file_extension": ".py",
   "mimetype": "text/x-python",
   "name": "python",
   "nbconvert_exporter": "python",
   "pygments_lexer": "ipython3",
   "version": "3.12.7"
  }
 },
 "nbformat": 4,
 "nbformat_minor": 5
}
