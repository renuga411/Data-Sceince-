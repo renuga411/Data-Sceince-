{
 "cells": [
  {
   "cell_type": "markdown",
   "id": "9b26756d-bb4a-4109-b942-65f4f8c3b6ba",
   "metadata": {},
   "source": [
    "Casting"
   ]
  },
  {
   "cell_type": "code",
   "execution_count": 1,
   "id": "6a5a158b-2263-4854-a97f-aa3ed295fabe",
   "metadata": {},
   "outputs": [
    {
     "name": "stdout",
     "output_type": "stream",
     "text": [
      "66\n"
     ]
    }
   ],
   "source": [
    "k=66\n",
    "print(str(k))"
   ]
  },
  {
   "cell_type": "code",
   "execution_count": 2,
   "id": "a66f9580-4b7d-4248-9057-ec4c2f0c2213",
   "metadata": {},
   "outputs": [
    {
     "name": "stdout",
     "output_type": "stream",
     "text": [
      "(66+0j)\n"
     ]
    }
   ],
   "source": [
    "print(complex(k))"
   ]
  },
  {
   "cell_type": "code",
   "execution_count": 5,
   "id": "943d8f47-ffce-4b29-b96c-952bbf459909",
   "metadata": {},
   "outputs": [
    {
     "name": "stdout",
     "output_type": "stream",
     "text": [
      "66.0\n"
     ]
    }
   ],
   "source": [
    "print(float(k))"
   ]
  },
  {
   "cell_type": "code",
   "execution_count": 6,
   "id": "ffbb5123-4711-47a0-a4e2-966105d3524b",
   "metadata": {},
   "outputs": [
    {
     "ename": "ValueError",
     "evalue": "invalid literal for int() with base 10: 'world'",
     "output_type": "error",
     "traceback": [
      "\u001b[1;31m---------------------------------------------------------------------------\u001b[0m",
      "\u001b[1;31mValueError\u001b[0m                                Traceback (most recent call last)",
      "Cell \u001b[1;32mIn[6], line 2\u001b[0m\n\u001b[0;32m      1\u001b[0m k1\u001b[38;5;241m=\u001b[39m\u001b[38;5;124m\"\u001b[39m\u001b[38;5;124mworld\u001b[39m\u001b[38;5;124m\"\u001b[39m\n\u001b[1;32m----> 2\u001b[0m \u001b[38;5;28mprint\u001b[39m(\u001b[38;5;28mint\u001b[39m(k1))\n",
      "\u001b[1;31mValueError\u001b[0m: invalid literal for int() with base 10: 'world'"
     ]
    }
   ],
   "source": [
    "k1=\"world\"\n",
    "print(int(k1))"
   ]
  },
  {
   "cell_type": "code",
   "execution_count": 12,
   "id": "08fbb87a-b373-4e4c-911b-065bfba7f26a",
   "metadata": {},
   "outputs": [
    {
     "ename": "ValueError",
     "evalue": "could not convert string to float: 'world'",
     "output_type": "error",
     "traceback": [
      "\u001b[1;31m---------------------------------------------------------------------------\u001b[0m",
      "\u001b[1;31mValueError\u001b[0m                                Traceback (most recent call last)",
      "Cell \u001b[1;32mIn[12], line 1\u001b[0m\n\u001b[1;32m----> 1\u001b[0m \u001b[38;5;28mprint\u001b[39m(\u001b[38;5;28mfloat\u001b[39m(k1))\n",
      "\u001b[1;31mValueError\u001b[0m: could not convert string to float: 'world'"
     ]
    }
   ],
   "source": [
    "print(float(k1))"
   ]
  },
  {
   "cell_type": "code",
   "execution_count": 8,
   "id": "9bb143f4-db3d-43b1-b6cf-88522d65f264",
   "metadata": {},
   "outputs": [
    {
     "ename": "ValueError",
     "evalue": "complex() arg is a malformed string",
     "output_type": "error",
     "traceback": [
      "\u001b[1;31m---------------------------------------------------------------------------\u001b[0m",
      "\u001b[1;31mValueError\u001b[0m                                Traceback (most recent call last)",
      "Cell \u001b[1;32mIn[8], line 1\u001b[0m\n\u001b[1;32m----> 1\u001b[0m \u001b[38;5;28mprint\u001b[39m(\u001b[38;5;28mcomplex\u001b[39m(k1))\n",
      "\u001b[1;31mValueError\u001b[0m: complex() arg is a malformed string"
     ]
    }
   ],
   "source": [
    "print(complex(k1))"
   ]
  },
  {
   "cell_type": "code",
   "execution_count": 9,
   "id": "4f006b4e-9a5d-4a6e-8edb-5c645e165575",
   "metadata": {},
   "outputs": [
    {
     "name": "stdout",
     "output_type": "stream",
     "text": [
      "78\n"
     ]
    }
   ],
   "source": [
    "k2=\"78\"\n",
    "print(int(k2))"
   ]
  },
  {
   "cell_type": "code",
   "execution_count": 10,
   "id": "d6e07793-c90b-4d16-bd85-794cb143563e",
   "metadata": {},
   "outputs": [
    {
     "name": "stdout",
     "output_type": "stream",
     "text": [
      "78.0\n"
     ]
    }
   ],
   "source": [
    "print(float(k2))"
   ]
  },
  {
   "cell_type": "code",
   "execution_count": 11,
   "id": "9d8676bd-81e0-4fd0-991c-3bae97eebde6",
   "metadata": {},
   "outputs": [
    {
     "name": "stdout",
     "output_type": "stream",
     "text": [
      "(78+0j)\n"
     ]
    }
   ],
   "source": [
    "print(complex(k2))"
   ]
  },
  {
   "cell_type": "code",
   "execution_count": 13,
   "id": "918c4d41-777b-471a-a932-2dd7be33f1d3",
   "metadata": {},
   "outputs": [
    {
     "name": "stdout",
     "output_type": "stream",
     "text": [
      "(6+7j)\n"
     ]
    }
   ],
   "source": [
    "k3=6+7j\n",
    "print(str(k3))"
   ]
  },
  {
   "cell_type": "code",
   "execution_count": 14,
   "id": "ce8c5c20-3662-44c8-9e91-c1976e9c097d",
   "metadata": {},
   "outputs": [
    {
     "ename": "TypeError",
     "evalue": "int() argument must be a string, a bytes-like object or a real number, not 'complex'",
     "output_type": "error",
     "traceback": [
      "\u001b[1;31m---------------------------------------------------------------------------\u001b[0m",
      "\u001b[1;31mTypeError\u001b[0m                                 Traceback (most recent call last)",
      "Cell \u001b[1;32mIn[14], line 1\u001b[0m\n\u001b[1;32m----> 1\u001b[0m \u001b[38;5;28mprint\u001b[39m(\u001b[38;5;28mint\u001b[39m(k3))\n",
      "\u001b[1;31mTypeError\u001b[0m: int() argument must be a string, a bytes-like object or a real number, not 'complex'"
     ]
    }
   ],
   "source": [
    "print(int(k3))"
   ]
  },
  {
   "cell_type": "code",
   "execution_count": 15,
   "id": "a4cbf2df-434a-4b0d-9744-de7bb9807891",
   "metadata": {},
   "outputs": [
    {
     "ename": "TypeError",
     "evalue": "float() argument must be a string or a real number, not 'complex'",
     "output_type": "error",
     "traceback": [
      "\u001b[1;31m---------------------------------------------------------------------------\u001b[0m",
      "\u001b[1;31mTypeError\u001b[0m                                 Traceback (most recent call last)",
      "Cell \u001b[1;32mIn[15], line 1\u001b[0m\n\u001b[1;32m----> 1\u001b[0m \u001b[38;5;28mprint\u001b[39m(\u001b[38;5;28mfloat\u001b[39m(k3))\n",
      "\u001b[1;31mTypeError\u001b[0m: float() argument must be a string or a real number, not 'complex'"
     ]
    }
   ],
   "source": [
    "print(float(k3))"
   ]
  },
  {
   "cell_type": "code",
   "execution_count": null,
   "id": "bf6f3021-ba54-4bf0-b729-691612c196c1",
   "metadata": {},
   "outputs": [],
   "source": []
  },
  {
   "cell_type": "code",
   "execution_count": null,
   "id": "9a7ded26-1511-404e-9886-81130b5fb471",
   "metadata": {},
   "outputs": [],
   "source": []
  },
  {
   "cell_type": "code",
   "execution_count": null,
   "id": "fa144fc0-7f8c-4f8a-80bb-7742197e4ae9",
   "metadata": {},
   "outputs": [],
   "source": []
  }
 ],
 "metadata": {
  "kernelspec": {
   "display_name": "Python 3 (ipykernel)",
   "language": "python",
   "name": "python3"
  },
  "language_info": {
   "codemirror_mode": {
    "name": "ipython",
    "version": 3
   },
   "file_extension": ".py",
   "mimetype": "text/x-python",
   "name": "python",
   "nbconvert_exporter": "python",
   "pygments_lexer": "ipython3",
   "version": "3.12.7"
  }
 },
 "nbformat": 4,
 "nbformat_minor": 5
}
