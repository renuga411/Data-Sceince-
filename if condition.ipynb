{
 "cells": [
  {
   "cell_type": "markdown",
   "id": "87cb29f6-eced-41bc-a771-fa9048bd9cd0",
   "metadata": {},
   "source": [
    "if statement"
   ]
  },
  {
   "cell_type": "code",
   "execution_count": 8,
   "id": "52877386-72b9-4972-95c0-8279e238e64e",
   "metadata": {},
   "outputs": [
    {
     "name": "stdin",
     "output_type": "stream",
     "text": [
      "enter your skill: react\n",
      "enter your experience: 3\n"
     ]
    },
    {
     "name": "stdout",
     "output_type": "stream",
     "text": [
      "invalid skill\n"
     ]
    }
   ],
   "source": [
    "skill=input(\"enter your skill:\")\n",
    "experience=int(input(\"enter your experience:\"))\n",
    "if skill==\"python\":\n",
    "   if experience==2:\n",
    "      print(\"CTS\")\n",
    "   elif experience==1:\n",
    "      print(\"TCS\")\n",
    "if skill==\"java\":\n",
    "   if experience==2:\n",
    "      print(\"wipro\")\n",
    "   elif experience==1:\n",
    "      print(\"amazon\")\n",
    "else:\n",
    "    print(\"invalid skill\")"
   ]
  },
  {
   "cell_type": "markdown",
   "id": "3676b4a1-417f-42f9-912e-3f1bd7b77555",
   "metadata": {},
   "source": [
    "list"
   ]
  },
  {
   "cell_type": "code",
   "execution_count": 9,
   "id": "598c4497-1fdc-4149-8753-1726ddcd8d24",
   "metadata": {},
   "outputs": [
    {
     "name": "stdout",
     "output_type": "stream",
     "text": [
      "hihi\n"
     ]
    }
   ],
   "source": [
    "print(\"hi\"*2)\n"
   ]
  },
  {
   "cell_type": "code",
   "execution_count": 11,
   "id": "0df02149-63f0-4e84-8e87-90b8c1ea848c",
   "metadata": {},
   "outputs": [
    {
     "name": "stdout",
     "output_type": "stream",
     "text": [
      "2\n"
     ]
    }
   ],
   "source": [
    "print(True+True)"
   ]
  },
  {
   "cell_type": "code",
   "execution_count": 19,
   "id": "8b65ef9f-a07c-4881-b4f6-64be3c788c5a",
   "metadata": {},
   "outputs": [
    {
     "name": "stdout",
     "output_type": "stream",
     "text": [
      "1\n"
     ]
    }
   ],
   "source": [
    "print(False+True)"
   ]
  },
  {
   "cell_type": "code",
   "execution_count": 17,
   "id": "87bf4a03-502b-4494-95dc-17b56c244a0b",
   "metadata": {},
   "outputs": [
    {
     "name": "stdout",
     "output_type": "stream",
     "text": [
      "0\n"
     ]
    }
   ],
   "source": [
    "print(False+False)"
   ]
  },
  {
   "cell_type": "code",
   "execution_count": 18,
   "id": "d777dc24-d19a-4ddd-9f6c-42dabeea1002",
   "metadata": {},
   "outputs": [
    {
     "name": "stdout",
     "output_type": "stream",
     "text": [
      "1\n"
     ]
    }
   ],
   "source": [
    "print(True+False)"
   ]
  },
  {
   "cell_type": "code",
   "execution_count": null,
   "id": "f3aefa58-f45b-4e77-9bd7-6dd0f5cc32d1",
   "metadata": {},
   "outputs": [],
   "source": []
  }
 ],
 "metadata": {
  "kernelspec": {
   "display_name": "Python 3 (ipykernel)",
   "language": "python",
   "name": "python3"
  },
  "language_info": {
   "codemirror_mode": {
    "name": "ipython",
    "version": 3
   },
   "file_extension": ".py",
   "mimetype": "text/x-python",
   "name": "python",
   "nbconvert_exporter": "python",
   "pygments_lexer": "ipython3",
   "version": "3.12.7"
  }
 },
 "nbformat": 4,
 "nbformat_minor": 5
}
