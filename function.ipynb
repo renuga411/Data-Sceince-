{
 "cells": [
  {
   "cell_type": "markdown",
   "id": "4abfc60b-6652-4b64-82d2-8c0c04401c0b",
   "metadata": {},
   "source": [
    "calculator"
   ]
  },
  {
   "cell_type": "code",
   "execution_count": 10,
   "id": "e27729fe-f506-4e14-af44-328ed8ecad54",
   "metadata": {},
   "outputs": [
    {
     "name": "stdin",
     "output_type": "stream",
     "text": [
      "A: 10\n",
      "B: 2\n",
      "operation: div\n"
     ]
    },
    {
     "name": "stdout",
     "output_type": "stream",
     "text": [
      "5.0\n"
     ]
    }
   ],
   "source": [
    "def calculator():\n",
    "   a=int(input(\"A:\"))\n",
    "   b=int(input(\"B:\"))\n",
    "   operation=input(\"operation:\")\n",
    "   if(operation==\"add\"):\n",
    "      print(a+b)\n",
    "   elif(operation==\"sub\"):\n",
    "       print(a-b)\n",
    "   elif(operation==\"mul\"):\n",
    "       print(a*b)\n",
    "   elif(operation==\"div\"):\n",
    "       print(a/b)\n",
    "calculator()"
   ]
  },
  {
   "cell_type": "code",
   "execution_count": null,
   "id": "ba47eca2-66a3-4cda-ac25-8ef55654c2cf",
   "metadata": {},
   "outputs": [],
   "source": []
  }
 ],
 "metadata": {
  "kernelspec": {
   "display_name": "Python 3 (ipykernel)",
   "language": "python",
   "name": "python3"
  },
  "language_info": {
   "codemirror_mode": {
    "name": "ipython",
    "version": 3
   },
   "file_extension": ".py",
   "mimetype": "text/x-python",
   "name": "python",
   "nbconvert_exporter": "python",
   "pygments_lexer": "ipython3",
   "version": "3.12.7"
  }
 },
 "nbformat": 4,
 "nbformat_minor": 5
}
