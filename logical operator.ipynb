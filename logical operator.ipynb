{
 "cells": [
  {
   "cell_type": "markdown",
   "id": "e623e233-a9d1-4c30-b590-1d4d6e326114",
   "metadata": {},
   "source": [
    "Logical operators"
   ]
  },
  {
   "cell_type": "code",
   "execution_count": 1,
   "id": "08212385-4ea0-4c1f-b4f2-7f2cff87a60b",
   "metadata": {},
   "outputs": [
    {
     "name": "stdout",
     "output_type": "stream",
     "text": [
      "True\n"
     ]
    }
   ],
   "source": [
    "a=15\n",
    "print(a>5 or a<10)"
   ]
  },
  {
   "cell_type": "markdown",
   "id": "3a9dc540-0d60-4b91-aee6-75a01bb015af",
   "metadata": {},
   "source": []
  }
 ],
 "metadata": {
  "kernelspec": {
   "display_name": "Python 3 (ipykernel)",
   "language": "python",
   "name": "python3"
  },
  "language_info": {
   "codemirror_mode": {
    "name": "ipython",
    "version": 3
   },
   "file_extension": ".py",
   "mimetype": "text/x-python",
   "name": "python",
   "nbconvert_exporter": "python",
   "pygments_lexer": "ipython3",
   "version": "3.12.7"
  }
 },
 "nbformat": 4,
 "nbformat_minor": 5
}
