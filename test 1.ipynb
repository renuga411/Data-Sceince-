{
 "cells": [
  {
   "cell_type": "markdown",
   "id": "1ef6c2b7-3670-4b9b-875f-0531848b8ba4",
   "metadata": {},
   "source": [
    "1"
   ]
  },
  {
   "cell_type": "code",
   "execution_count": 5,
   "id": "96b2fe1f-fe70-4d73-b02c-a50fdfdda10f",
   "metadata": {},
   "outputs": [],
   "source": [
    "        "
   ]
  },
  {
   "cell_type": "code",
   "execution_count": 5,
   "id": "3d4b7b80-803d-423f-a197-daffe47ecd46",
   "metadata": {},
   "outputs": [
    {
     "name": "stdout",
     "output_type": "stream",
     "text": [
      "True\n"
     ]
    }
   ],
   "source": [
    "from collections import Counter\n",
    "s1=\"listen\"\n",
    "s2=\"silent\"\n",
    "if len(s1)!=len(s2):\n",
    "   print(\"False\")\n",
    "else:\n",
    "    if Counter(s1)==Counter(s2):\n",
    "        print(\"True\")\n",
    "    else:\n",
    "        print(\"False\")"
   ]
  },
  {
   "cell_type": "code",
   "execution_count": 43,
   "id": "8097e414-2a99-4056-a353-16f9082a2c48",
   "metadata": {},
   "outputs": [
    {
     "name": "stdout",
     "output_type": "stream",
     "text": [
      "True\n"
     ]
    }
   ],
   "source": [
    "def is_palindrome(text):\n",
    "    return text==text[::-1]\n",
    "text=\"madam\"\n",
    "print(is_palindrome(text))"
   ]
  },
  {
   "cell_type": "markdown",
   "id": "c95bcced-9fe0-4278-8ae8-404521a73a7f",
   "metadata": {},
   "source": [
    "3"
   ]
  },
  {
   "cell_type": "code",
   "execution_count": 17,
   "id": "a9c2ee5a-9b3f-4e41-bad9-3151f0168a12",
   "metadata": {},
   "outputs": [
    {
     "name": "stdout",
     "output_type": "stream",
     "text": [
      "Max: 89 Min: -1\n"
     ]
    }
   ],
   "source": [
    "numbers=[12,45,7,89,23,-1]\n",
    "min_num=numbers[0]\n",
    "max_num=numbers[0]\n",
    "for num in numbers:\n",
    "    if num<min_num:\n",
    "        min_num=num\n",
    "    if num>max_num:\n",
    "        max_num=num\n",
    "print(\"Max:\",max_num,\"Min:\",min_num)"
   ]
  },
  {
   "cell_type": "markdown",
   "id": "354e8f2c-d567-4d14-aa9b-0beda81e82cb",
   "metadata": {},
   "source": [
    "4"
   ]
  },
  {
   "cell_type": "code",
   "execution_count": 63,
   "id": "7135ea75-7791-4038-8553-643ceb08b1d1",
   "metadata": {},
   "outputs": [
    {
     "name": "stdout",
     "output_type": "stream",
     "text": [
      "Ascending: [5, 12, 29, 34, 66]\n",
      "Descending: [66, 34, 29, 12, 5]\n"
     ]
    }
   ],
   "source": [
    "data=[34,12,5,66,29]\n",
    "a=data[:]\n",
    "for i in range(len(a)):\n",
    "    for j in range(i+1,len(a)):\n",
    "        if(a[i]>a[j]):\n",
    "            a[i],a[j]=a[j],a[i]\n",
    "d=data[:]\n",
    "for i in range(len(d)):\n",
    "    for j in range(i+1,len(d)):\n",
    "        if(d[i]<d[j]):\n",
    "            d[i],d[j]=d[j],d[i]\n",
    "print(\"Ascending:\",a)\n",
    "print(\"Descending:\",d)\n",
    "\n",
    "            \n",
    "            "
   ]
  },
  {
   "cell_type": "code",
   "execution_count": null,
   "id": "ab7671f0-f1e4-4d87-bf7f-c10792a6f28b",
   "metadata": {},
   "outputs": [],
   "source": [
    "5"
   ]
  },
  {
   "cell_type": "code",
   "execution_count": 5,
   "id": "056ccf14-c535-4f9b-b01b-66a7f89ecb05",
   "metadata": {},
   "outputs": [
    {
     "name": "stdout",
     "output_type": "stream",
     "text": [
      "[1, 2, 3, 4, 5]\n"
     ]
    }
   ],
   "source": [
    "\n",
    "   items=[1,2,2,3,4,4,5]\n",
    "   a=[]\n",
    "   for item in items:\n",
    "      if item not in a:\n",
    "        a.append(item)\n",
    "   print(a)\n",
    "            "
   ]
  },
  {
   "cell_type": "code",
   "execution_count": null,
   "id": "7a7b05c4-133a-4ace-8280-143092f32f5a",
   "metadata": {},
   "outputs": [],
   "source": [
    "6"
   ]
  },
  {
   "cell_type": "code",
   "execution_count": 16,
   "id": "fa0de494-e53f-4288-9538-55488efc953e",
   "metadata": {},
   "outputs": [
    {
     "name": "stdout",
     "output_type": "stream",
     "text": [
      "Odd\n"
     ]
    }
   ],
   "source": [
    "def function():\n",
    "   num=17\n",
    "   if num%2==0:\n",
    "      print(\"Even\")\n",
    "   else:\n",
    "      print(\"Odd\")\n",
    "function()"
   ]
  },
  {
   "cell_type": "code",
   "execution_count": null,
   "id": "4c9d2f93-fe5b-49d3-8534-b31940fc823a",
   "metadata": {},
   "outputs": [],
   "source": [
    "7"
   ]
  },
  {
   "cell_type": "code",
   "execution_count": 15,
   "id": "91456aad-4566-4074-9809-d44f65c3d459",
   "metadata": {},
   "outputs": [
    {
     "name": "stdout",
     "output_type": "stream",
     "text": [
      "Vowels: 3\n"
     ]
    }
   ],
   "source": [
    "def vowels():\n",
    "   a=\"Hello World\"\n",
    "   b=0\n",
    "   vowels=\"aeiouAEIOU\"\n",
    "   for char in a:\n",
    "     if char in vowels:\n",
    "        b+=1\n",
    "   print(\"Vowels:\",b)\n",
    "vowels()"
   ]
  },
  {
   "cell_type": "code",
   "execution_count": null,
   "id": "b016de60-7ded-4404-bfa2-bf707923ea74",
   "metadata": {},
   "outputs": [],
   "source": [
    "8"
   ]
  },
  {
   "cell_type": "code",
   "execution_count": 9,
   "id": "59924f8a-ebeb-4255-99cb-88a4c6309b50",
   "metadata": {},
   "outputs": [
    {
     "name": "stdout",
     "output_type": "stream",
     "text": [
      "120\n"
     ]
    }
   ],
   "source": [
    "def factorial():\n",
    "    n=5\n",
    "    factorial=1\n",
    "    while(n>0):\n",
    "       factorial=factorial*n\n",
    "       n=n-1\n",
    "    print(factorial)\n",
    "factorial()"
   ]
  },
  {
   "cell_type": "code",
   "execution_count": null,
   "id": "e4216dff-be6a-43cd-895e-f0e2d44a25d9",
   "metadata": {},
   "outputs": [],
   "source": [
    "9"
   ]
  },
  {
   "cell_type": "code",
   "execution_count": 13,
   "id": "5498a697-65e2-4cdf-8b42-aa317ea4e263",
   "metadata": {},
   "outputs": [
    {
     "name": "stdout",
     "output_type": "stream",
     "text": [
      "prime\n"
     ]
    }
   ],
   "source": [
    "def prime():\n",
    "   num=13\n",
    "   is_prime=True\n",
    "   if num<=1:\n",
    "      is_prime=False\n",
    "   else:\n",
    "      for i in range(2,num):\n",
    "         if num%i==0:\n",
    "            is_prime=False\n",
    "            break\n",
    "   if is_prime:\n",
    "      print(\"prime\")\n",
    "   else:\n",
    "      print(\"not prime\")\n",
    "prime()"
   ]
  },
  {
   "cell_type": "code",
   "execution_count": null,
   "id": "8ef3944d-fbbe-45da-9648-ea6891352902",
   "metadata": {},
   "outputs": [],
   "source": [
    "10"
   ]
  },
  {
   "cell_type": "code",
   "execution_count": 14,
   "id": "9f4e83c4-b264-4e40-af6c-a3491b83290d",
   "metadata": {},
   "outputs": [
    {
     "name": "stdout",
     "output_type": "stream",
     "text": [
      "nohtyP\n"
     ]
    }
   ],
   "source": [
    "def reverse():\n",
    "    text=\"Python\"\n",
    "    reversed_text=\"\"\n",
    "    for i in range(len(text)-1,-1,-1):\n",
    "        reversed_text+=text[i]\n",
    "    print(reversed_text)\n",
    "reverse()"
   ]
  },
  {
   "cell_type": "code",
   "execution_count": 42,
   "id": "42ea2c4b-9250-425a-97d9-1d27db4c5841",
   "metadata": {},
   "outputs": [
    {
     "name": "stdout",
     "output_type": "stream",
     "text": [
      "True\n"
     ]
    }
   ],
   "source": []
  },
  {
   "cell_type": "code",
   "execution_count": 23,
   "id": "2a5648be-a3e6-492d-b51a-561e418c4692",
   "metadata": {},
   "outputs": [
    {
     "name": "stdout",
     "output_type": "stream",
     "text": [
      "Ascending: [5, 12, 29, 34, 66]\n"
     ]
    }
   ],
   "source": [
    "data=[34,12,5,66,29]\n",
    "a=data[:]\n",
    "for i in range(len(a)):\n",
    "   \n",
    "    for j in range(i+1,len(a)):\n",
    "       \n",
    "        if(a[i]>a[j]):\n",
    "             \n",
    "            a[i],a[j]=a[j],a[i]\n",
    "print(\"Ascending:\",a)\n",
    "\n",
    "\n"
   ]
  },
  {
   "cell_type": "code",
   "execution_count": null,
   "id": "d18f8929-a292-47d0-929c-72c5eaf0fe63",
   "metadata": {},
   "outputs": [],
   "source": []
  },
  {
   "cell_type": "code",
   "execution_count": null,
   "id": "f7b3b880-ed42-4a4a-b977-0ecda085c70a",
   "metadata": {},
   "outputs": [],
   "source": []
  }
 ],
 "metadata": {
  "kernelspec": {
   "display_name": "Python 3 (ipykernel)",
   "language": "python",
   "name": "python3"
  },
  "language_info": {
   "codemirror_mode": {
    "name": "ipython",
    "version": 3
   },
   "file_extension": ".py",
   "mimetype": "text/x-python",
   "name": "python",
   "nbconvert_exporter": "python",
   "pygments_lexer": "ipython3",
   "version": "3.12.7"
  }
 },
 "nbformat": 4,
 "nbformat_minor": 5
}
