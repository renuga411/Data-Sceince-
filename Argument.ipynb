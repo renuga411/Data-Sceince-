{
 "cells": [
  {
   "cell_type": "code",
   "execution_count": 14,
   "id": "ff92b7b5-13fa-4ad2-ba46-a26762c26c4b",
   "metadata": {},
   "outputs": [
    {
     "name": "stdout",
     "output_type": "stream",
     "text": [
      "0.5\n"
     ]
    }
   ],
   "source": [
    "def mul(a,b):\n",
    "    c=a*b\n",
    "    return c\n",
    "k=mul(5,4)\n",
    "def mul(a,b):\n",
    "    c=a*b\n",
    "    return c\n",
    "k1=mul(5,8)\n",
    "print(k/k1)\n",
    "\n",
    "    "
   ]
  },
  {
   "cell_type": "code",
   "execution_count": null,
   "id": "7f77acfe-fbb7-4448-b2d8-b76f6bac1328",
   "metadata": {},
   "outputs": [],
   "source": []
  }
 ],
 "metadata": {
  "kernelspec": {
   "display_name": "Python 3 (ipykernel)",
   "language": "python",
   "name": "python3"
  },
  "language_info": {
   "codemirror_mode": {
    "name": "ipython",
    "version": 3
   },
   "file_extension": ".py",
   "mimetype": "text/x-python",
   "name": "python",
   "nbconvert_exporter": "python",
   "pygments_lexer": "ipython3",
   "version": "3.12.7"
  }
 },
 "nbformat": 4,
 "nbformat_minor": 5
}
