{
 "cells": [
  {
   "cell_type": "markdown",
   "id": "59d64071-d93b-497a-85b3-ead9857629c5",
   "metadata": {},
   "source": [
    "Task 1"
   ]
  },
  {
   "cell_type": "code",
   "execution_count": 9,
   "id": "fddf2308-cff4-4b07-bd64-3648847d868a",
   "metadata": {},
   "outputs": [
    {
     "name": "stdout",
     "output_type": "stream",
     "text": [
      "[1, 22, 3, 44, 55, 6, 4, 11, 1200]\n"
     ]
    }
   ],
   "source": [
    "l=[1,22,3,44,55,6,11,1200]\n",
    "l.insert(6,4)\n",
    "print(l)"
   ]
  },
  {
   "cell_type": "code",
   "execution_count": 10,
   "id": "c6abc961-fdec-4d07-b3c9-97734c8ce8e3",
   "metadata": {},
   "outputs": [
    {
     "name": "stdout",
     "output_type": "stream",
     "text": [
      "[1, 22, 3, 55, 6, 4, 11, 1200]\n"
     ]
    }
   ],
   "source": [
    "l.remove(44)\n",
    "print(l)"
   ]
  },
  {
   "cell_type": "code",
   "execution_count": 11,
   "id": "eca2e9de-a45b-4c51-8935-8e0fc3a85a98",
   "metadata": {},
   "outputs": [
    {
     "name": "stdout",
     "output_type": "stream",
     "text": [
      "[1, 22, 3, 55, 6, 4, 11, 1200, 88]\n"
     ]
    }
   ],
   "source": [
    "l.append(88)\n",
    "print(l)"
   ]
  },
  {
   "cell_type": "code",
   "execution_count": 15,
   "id": "94d2d16c-af00-4756-b29d-0c5f4c52ad18",
   "metadata": {},
   "outputs": [
    {
     "name": "stdout",
     "output_type": "stream",
     "text": [
      "[1, 22, 55, 6, 4, 11, 1200, 88]\n"
     ]
    }
   ],
   "source": [
    "l=[1,22,3,55,6,4,11,1200,88]\n",
    "l.pop(2)\n",
    "print(l)"
   ]
  },
  {
   "cell_type": "code",
   "execution_count": 3,
   "id": "ee3dcfc0-3304-4e85-b020-49ae2828ed6e",
   "metadata": {},
   "outputs": [
    {
     "name": "stdout",
     "output_type": "stream",
     "text": [
      "[1, 22, 3, 44, 55, 6, 11, 1200, 1, 2, 3, 546]\n"
     ]
    }
   ],
   "source": [
    "l=[1,22,3,44,55,6,11,1200]\n",
    "m=[1,2,3,546]\n",
    "l.extend(m)\n",
    "print(l)\n"
   ]
  },
  {
   "cell_type": "markdown",
   "id": "6b7d4ec5-064c-4a87-85fe-b481b9375334",
   "metadata": {},
   "source": [
    "Task 2"
   ]
  },
  {
   "cell_type": "code",
   "execution_count": 12,
   "id": "b5206671-e75e-4426-9c38-c603684c3200",
   "metadata": {},
   "outputs": [
    {
     "name": "stdout",
     "output_type": "stream",
     "text": [
      "HelloWorld\n"
     ]
    }
   ],
   "source": [
    "s=\"HelloWorld\"\n",
    "print(s.replace(\"6\",\"python\"))"
   ]
  },
  {
   "cell_type": "code",
   "execution_count": 53,
   "id": "7c3e79c8-1415-406c-9f55-eb18e8e89cd4",
   "metadata": {},
   "outputs": [
    {
     "name": "stdout",
     "output_type": "stream",
     "text": [
      "HelloWPythonorld\n"
     ]
    }
   ],
   "source": [
    "s=\"HelloWorld\"\n",
    "s1=\"Python\"\n",
    "index=6\n",
    "new_string=s[:6]+s1+s[6:]\n",
    "print(new_string)"
   ]
  },
  {
   "cell_type": "code",
   "execution_count": 45,
   "id": "81696881-26e5-4f21-a45d-80d5052fb1bc",
   "metadata": {},
   "outputs": [
    {
     "name": "stdout",
     "output_type": "stream",
     "text": [
      "Hello\n"
     ]
    }
   ],
   "source": [
    "s=\"HelloWorld\"\n",
    "s1=\"World\"\n",
    "new_string=s.replace(s1,\"\")\n",
    "print(new_string)"
   ]
  },
  {
   "cell_type": "code",
   "execution_count": 47,
   "id": "d8068598-d21d-49a8-9c7f-75e31035f9bb",
   "metadata": {},
   "outputs": [
    {
     "name": "stdout",
     "output_type": "stream",
     "text": [
      "HelloWorld2024\n"
     ]
    }
   ],
   "source": [
    "s=\"HelloWorld\"\n",
    "s1=\"2024\"\n",
    "new_string=s+s1\n",
    "print(new_string)\n"
   ]
  },
  {
   "cell_type": "code",
   "execution_count": 50,
   "id": "d3f6c38f-f674-41b3-8be6-1d09105f9019",
   "metadata": {},
   "outputs": [
    {
     "name": "stdout",
     "output_type": "stream",
     "text": [
      "HeloWorld\n"
     ]
    }
   ],
   "source": [
    "s1=2\n",
    "new_string=s[:s1]+s[s1+1:]\n",
    "print(new_string)"
   ]
  },
  {
   "cell_type": "code",
   "execution_count": 52,
   "id": "2ad52fb5-9632-46a1-8274-d607f83dcd52",
   "metadata": {},
   "outputs": [
    {
     "name": "stdout",
     "output_type": "stream",
     "text": [
      "HelloWorldProgramming\n"
     ]
    }
   ],
   "source": [
    "t=\"Programming\"\n",
    "new_string=s+t\n",
    "print(new_string)"
   ]
  },
  {
   "cell_type": "markdown",
   "id": "07a5193f-ed08-4329-8063-de71aa9db2d6",
   "metadata": {},
   "source": [
    "Task 3"
   ]
  },
  {
   "cell_type": "raw",
   "id": "2a497e7c-21e7-4e3d-a01c-5512a23f8ba6",
   "metadata": {},
   "source": [
    "Palindrome"
   ]
  },
  {
   "cell_type": "code",
   "execution_count": 28,
   "id": "9455c6f6-d8b9-43da-bee3-d0c067a2a376",
   "metadata": {},
   "outputs": [
    {
     "name": "stdout",
     "output_type": "stream",
     "text": [
      "True\n"
     ]
    }
   ],
   "source": [
    "def is_palindrome(s): \n",
    "  return s==s[::-1]\n",
    "text=\"madam\"\n",
    "if is_palindrome(text):\n",
    "    print(\"True\")\n",
    "else:\n",
    "    print(\"False\")"
   ]
  },
  {
   "cell_type": "markdown",
   "id": "680f10f7-b05b-43fe-b4aa-cb06463db5a3",
   "metadata": {},
   "source": [
    "Task 4"
   ]
  },
  {
   "cell_type": "markdown",
   "id": "96582b08-7a55-4582-9789-85b438861350",
   "metadata": {},
   "source": [
    "Anagram"
   ]
  },
  {
   "cell_type": "code",
   "execution_count": 40,
   "id": "c72d5bec-0509-431d-b32c-0b9ae9c62daa",
   "metadata": {},
   "outputs": [
    {
     "name": "stdout",
     "output_type": "stream",
     "text": [
      "True\n"
     ]
    }
   ],
   "source": [
    "s1=\"listen\"\n",
    "s2=\"silent\"\n",
    "if sorted(s1)==sorted(s2):\n",
    "   print(\"True\")\n",
    "else:\n",
    "   print(\"False\")"
   ]
  },
  {
   "cell_type": "markdown",
   "id": "88cac5ea-243e-4811-99d9-9bfd7856e32c",
   "metadata": {},
   "source": [
    "Task 5"
   ]
  },
  {
   "cell_type": "code",
   "execution_count": 34,
   "id": "d100bd21-ef2f-41ec-8039-0ef29315fc22",
   "metadata": {},
   "outputs": [
    {
     "name": "stdout",
     "output_type": "stream",
     "text": [
      "Hello World\n"
     ]
    }
   ],
   "source": [
    "r=\"hello world\"\n",
    "k=r.title()\n",
    "print(k)"
   ]
  },
  {
   "cell_type": "markdown",
   "id": "5a0db95d-a471-4973-96db-52ceef22a349",
   "metadata": {},
   "source": [
    "Task 6"
   ]
  },
  {
   "cell_type": "code",
   "execution_count": 39,
   "id": "10e44331-0f64-4f9f-91ba-f13400db0a3d",
   "metadata": {},
   "outputs": [
    {
     "name": "stdout",
     "output_type": "stream",
     "text": [
      "hELLO wORLD\n"
     ]
    }
   ],
   "source": [
    "r=\"Hello World\"\n",
    "k=r.swapcase()\n",
    "print(k)"
   ]
  }
 ],
 "metadata": {
  "kernelspec": {
   "display_name": "Python 3 (ipykernel)",
   "language": "python",
   "name": "python3"
  },
  "language_info": {
   "codemirror_mode": {
    "name": "ipython",
    "version": 3
   },
   "file_extension": ".py",
   "mimetype": "text/x-python",
   "name": "python",
   "nbconvert_exporter": "python",
   "pygments_lexer": "ipython3",
   "version": "3.12.7"
  }
 },
 "nbformat": 4,
 "nbformat_minor": 5
}
