{
 "cells": [
  {
   "cell_type": "markdown",
   "id": "ea08c649-6738-41fd-8191-1ef3ed65c978",
   "metadata": {},
   "source": [
    "FOR LOOP"
   ]
  },
  {
   "cell_type": "code",
   "execution_count": 9,
   "id": "7882f0b8-89f3-4fc6-a336-886d17161989",
   "metadata": {},
   "outputs": [
    {
     "name": "stdout",
     "output_type": "stream",
     "text": [
      "2\n",
      "4\n",
      "9\n"
     ]
    }
   ],
   "source": [
    "l=[2,4,9,10,11,12,13]\n",
    "for i in l:\n",
    "    if(i==10):\n",
    "       break\n",
    "    print(i)\n",
    "    "
   ]
  },
  {
   "cell_type": "code",
   "execution_count": 26,
   "id": "b3562f18-54d1-4aba-a33a-cc311805912b",
   "metadata": {},
   "outputs": [
    {
     "name": "stdout",
     "output_type": "stream",
     "text": [
      "9\n",
      "11\n",
      "13\n"
     ]
    }
   ],
   "source": [
    "for i in l:\n",
    "    if(i%2==0):\n",
    "       continue\n",
    "    print(i)"
   ]
  },
  {
   "cell_type": "code",
   "execution_count": 39,
   "id": "c1b735ab-27f7-4594-99b4-1252f27c5653",
   "metadata": {},
   "outputs": [
    {
     "name": "stdout",
     "output_type": "stream",
     "text": [
      "3\n",
      "5\n",
      "7\n",
      "9\n"
     ]
    }
   ],
   "source": [
    "for i in l:\n",
    "    if(i%2==1):\n",
    "        print(i)"
   ]
  },
  {
   "cell_type": "code",
   "execution_count": 3,
   "id": "a6071c6d-21c1-47f0-a46b-f43ca75db6d8",
   "metadata": {},
   "outputs": [
    {
     "name": "stdout",
     "output_type": "stream",
     "text": [
      "[9, 11, 13]\n",
      "[2, 4, 10, 12]\n"
     ]
    }
   ],
   "source": [
    "l=[2,4,9,10,11,12,13]\n",
    "o=[]\n",
    "e=[]\n",
    "for i in l:\n",
    "    if(i%2==0):\n",
    "       e.append(i)\n",
    "    else:\n",
    "        o.append(i)\n",
    "print(o)\n",
    "print(e)"
   ]
  },
  {
   "cell_type": "code",
   "execution_count": 37,
   "id": "dbb4c736-95b3-4cf0-8d15-83f0b65977b2",
   "metadata": {},
   "outputs": [
    {
     "name": "stdout",
     "output_type": "stream",
     "text": [
      "3\n",
      "5\n",
      "7\n",
      "9\n"
     ]
    }
   ],
   "source": [
    "l=[3,4,5,6,7,8,9]\n",
    "for i in l:\n",
    "    if(i%2==1):\n",
    "        print(i)"
   ]
  },
  {
   "cell_type": "code",
   "execution_count": 50,
   "id": "106e76a2-c1e5-4cbf-bbd7-072f9cc84c63",
   "metadata": {},
   "outputs": [
    {
     "name": "stdout",
     "output_type": "stream",
     "text": [
      "7\n"
     ]
    }
   ],
   "source": [
    "l=[2,4,9,10,11,12,13]\n",
    "a=0\n",
    "for i in l:\n",
    "    a+=1\n",
    "print(a)\n",
    "  \n",
    "        "
   ]
  },
  {
   "cell_type": "code",
   "execution_count": 8,
   "id": "a049dce2-0f40-40e6-b3ba-a64f6e613ab3",
   "metadata": {},
   "outputs": [
    {
     "name": "stdout",
     "output_type": "stream",
     "text": [
      "0 1\n",
      "1 22\n",
      "2 3\n",
      "3 4\n",
      "4 5\n"
     ]
    }
   ],
   "source": [
    "k=[1,22,3,4,5]\n",
    "for i in range(len(k)):\n",
    "    print(i,k[i])"
   ]
  },
  {
   "cell_type": "code",
   "execution_count": 2,
   "id": "6844d0eb-6019-4ef9-8eef-32605378b327",
   "metadata": {},
   "outputs": [
    {
     "name": "stdout",
     "output_type": "stream",
     "text": [
      "True\n"
     ]
    }
   ],
   "source": [
    "print(\"abcd\">\"ab\")"
   ]
  },
  {
   "cell_type": "code",
   "execution_count": null,
   "id": "6b7ee2ac-70f2-4334-8d8a-761f1e3e786f",
   "metadata": {},
   "outputs": [],
   "source": []
  }
 ],
 "metadata": {
  "kernelspec": {
   "display_name": "Python 3 (ipykernel)",
   "language": "python",
   "name": "python3"
  },
  "language_info": {
   "codemirror_mode": {
    "name": "ipython",
    "version": 3
   },
   "file_extension": ".py",
   "mimetype": "text/x-python",
   "name": "python",
   "nbconvert_exporter": "python",
   "pygments_lexer": "ipython3",
   "version": "3.12.7"
  }
 },
 "nbformat": 4,
 "nbformat_minor": 5
}
